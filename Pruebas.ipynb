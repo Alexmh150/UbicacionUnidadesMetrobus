{
 "cells": [
  {
   "cell_type": "code",
   "execution_count": 65,
   "metadata": {},
   "outputs": [],
   "source": [
    "import sqlite3\n",
    "import pandas as pd\n",
    "import matplotlib.pyplot as plt\n",
    "from scipy.spatial import distance"
   ]
  },
  {
   "cell_type": "code",
   "execution_count": 66,
   "metadata": {},
   "outputs": [],
   "source": [
    "df = pd.read_csv('data/prueba_fetchdata_metrobus.csv',encoding='latin-1')\n",
    "df.position_latitude = df.position_latitude.astype(float)\n",
    "df.position_longitude = df.position_longitude.astype(float)"
   ]
  },
  {
   "cell_type": "code",
   "execution_count": 67,
   "metadata": {},
   "outputs": [
    {
     "data": {
      "image/png": "[encoded data removed]",
      "text/plain": [
       "<Figure size 1080x216 with 2 Axes>"
      ]
     },
     "metadata": {
      "needs_background": "light"
     },
     "output_type": "display_data"
    }
   ],
   "source": [
    "fig, (ax1, ax2) = plt.subplots(1, 2 ,figsize= (15,3))\n",
    "ax1.boxplot(df.position_latitude)\n",
    "ax2.boxplot(df.position_longitude)\n",
    "plt.subplots_adjust(wspace=0.5)\n",
    "plt.show()"
   ]
  },
  {
   "cell_type": "code",
   "execution_count": 68,
   "metadata": {},
   "outputs": [
    {
     "name": "stdout",
     "output_type": "stream",
     "text": [
      "(207, 14)\n",
      "(205, 14)\n"
     ]
    }
   ],
   "source": [
    "print(df.shape)\n",
    "df = df[df.position_latitude >= df.position_latitude.quantile(0.005)]\n",
    "print(df.shape)\n",
    "df.reset_index(inplace=True)"
   ]
  },
  {
   "cell_type": "code",
   "execution_count": 69,
   "metadata": {},
   "outputs": [
    {
     "data": {
      "image/png": "[encoded data removed]",
      "text/plain": [
       "<Figure size 1080x216 with 2 Axes>"
      ]
     },
     "metadata": {
      "needs_background": "light"
     },
     "output_type": "display_data"
    }
   ],
   "source": [
    "fig, (ax1, ax2) = plt.subplots(1, 2 ,figsize= (15,3))\n",
    "ax1.boxplot(df.position_latitude)\n",
    "ax2.boxplot(df.position_longitude)\n",
    "plt.subplots_adjust(wspace=0.5)\n",
    "plt.show()"
   ]
  },
  {
   "cell_type": "code",
   "execution_count": 70,
   "metadata": {},
   "outputs": [],
   "source": [
    "rutas = pd.read_csv('data/Rutas.csv')\n",
    "rutas.columns = ['Alcaldia','Longitud','Latitud']\n",
    "rutas['Alcaldia'] = rutas.Alcaldia.str.split(' / ',expand=True)[0]"
   ]
  },
  {
   "cell_type": "markdown",
   "metadata": {},
   "source": [
    "## Alcaldias\n",
    "<img src=\"Img.JPG\">"
   ]
  },
  {
   "cell_type": "code",
   "execution_count": 71,
   "metadata": {},
   "outputs": [],
   "source": [
    "alcaldia = []\n",
    "for i in range(df.shape[0]):\n",
    "    l = []\n",
    "    for j in range(rutas.shape[0]):\n",
    "        long = df.position_longitude.astype(float)[i]\n",
    "        lat = df.position_latitude.astype(float)[i]\n",
    "        a = (long,lat)\n",
    "        long_al = rutas.Longitud[j]   \n",
    "        lat_al =  rutas.Latitud[j] \n",
    "        b = (long_al,lat_al)\n",
    "        l.append(distance.euclidean(a, b))\n",
    "    alcaldia.append(rutas.Alcaldia[l.index(min(l))])\n",
    "\n",
    "df['Nombre'] = alcaldia"
   ]
  },
  {
   "cell_type": "code",
   "execution_count": 72,
   "metadata": {},
   "outputs": [],
   "source": [
    "alcaldias = pd.read_csv('data/alcaldias.csv',encoding='utf-8')\n",
    "alcaldias = alcaldias[['nomgeo','municipio']]\n",
    "alcaldias.columns = ['Nombre','idalcaldia']"
   ]
  },
  {
   "cell_type": "code",
   "execution_count": 73,
   "metadata": {},
   "outputs": [],
   "source": [
    "df = pd.merge(df,alcaldias,how='left',on = 'Nombre')\n",
    "df = df[['vehicle_id','position_latitude','position_longitude','vehicle_current_status','idalcaldia']]\n",
    "df.columns = ['vehicleid','positionlatitude','positionlongitude','vehiclecurrentstatus','idalcaldia']"
   ]
  },
  {
   "cell_type": "code",
   "execution_count": 74,
   "metadata": {},
   "outputs": [],
   "source": [
    "conx = sqlite3.connect('data.db')\n",
    "conx.execute('drop table if exists Unidades;')\n",
    "conx.commit()\n",
    "df.to_sql('Unidades',conx,index=False)"
   ]
  },
  {
   "cell_type": "code",
   "execution_count": 75,
   "metadata": {},
   "outputs": [],
   "source": [
    "conx.execute('drop table if exists Alcaldias;')\n",
    "conx.commit()\n",
    "alcaldias.to_sql('Alcaldias',conx,index=False)"
   ]
  },
  {
   "cell_type": "code",
   "execution_count": 76,
   "metadata": {},
   "outputs": [],
   "source": [
    "# alcaldias = pd.read_csv('data/alcaldias (2).csv',encoding='utf-8')\n",
    "# l_poligonos = []\n",
    "# for i in range(alcaldias.shape[0]):\n",
    "#     xy = np.array(json.loads(alcaldias.geo_shape[9])['coordinates'][0])\n",
    "#     l = []\n",
    "#     for e in xy:    \n",
    "#         l.append(tuple(e))\n",
    "#     l_poligonos.append(l)\n",
    "# alcaldias['Poligonos'] = l_poligonos\n",
    "# alcaldias['latitud'] = alcaldias.geo_point_2d.str.split(',',expand=True)[0].astype(float)\n",
    "# alcaldias['longitud'] = alcaldias.geo_point_2d.str.split(',',expand=True)[1].astype(float)\n"
   ]
  },
  {
   "cell_type": "code",
   "execution_count": 77,
   "metadata": {},
   "outputs": [],
   "source": [
    "# def is_point_in_path(x: int, y: int, poly) -> bool:\n",
    "#     # Determine if the point is in the polygon.\n",
    "#     #\n",
    "#     # Args:\n",
    "#     #   x -- The x coordinates of point.\n",
    "#     #   y -- The y coordinates of point.\n",
    "#     #   poly -- a list of tuples [(x, y), (x, y), ...]\n",
    "#     #\n",
    "#     # Returns:\n",
    "#     #   True if the point is in the path or is a corner or on the boundary\n",
    "     \n",
    "#         num = len(poly)\n",
    "#         j = num - 1\n",
    "#         c = False\n",
    "#         for i in range(num):\n",
    "#             if (x == poly[i][0]) and (y == poly[i][1]):\n",
    "#                 # point is a corner\n",
    "#                 return True\n",
    "#             if ((poly[i][1] > y) != (poly[j][1] > y)):\n",
    "#                 slope = (x-poly[i][0])*(poly[j][1]-poly[i][1])-(poly[j][0]-poly[i][0])*(y-poly[i][1])\n",
    "#                 if slope == 0:\n",
    "#                     # point is on boundary\n",
    "#                     return True\n",
    "#                 if (slope < 0) != (poly[j][1] < poly[i][1]):\n",
    "#                     c = not c\n",
    "#             j = i\n",
    "#         return c"
   ]
  },
  {
   "cell_type": "code",
   "execution_count": 78,
   "metadata": {},
   "outputs": [],
   "source": [
    "# l_poligonos = []\n",
    "# for i in range(alcaldias.shape[0]):\n",
    "#     x = alcaldias.geo_point_2d.str.split(',',expand=True)[1].astype(float)[i]\n",
    "#     y = alcaldias.geo_point_2d.str.split(',',expand=True)[0].astype(float)[i]\n",
    "#     xy = np.array(json.loads(alcaldias.geo_shape[9])['coordinates'][0])\n",
    "#     l = []\n",
    "#     for e in xy:    \n",
    "#         l.append(tuple(e))\n",
    "#     l_poligonos.append(l)\n",
    "#     print(is_point_in_path(x,y,l),x,y,alcaldias.nomgeo[i])"
   ]
  }
 ],
 "metadata": {
  "kernelspec": {
   "display_name": "Python 3.8.1 64-bit",
   "language": "python",
   "name": "python3"
  },
  "language_info": {
   "codemirror_mode": {
    "name": "ipython",
    "version": 3
   },
   "file_extension": ".py",
   "mimetype": "text/x-python",
   "name": "python",
   "nbconvert_exporter": "python",
   "pygments_lexer": "ipython3",
   "version": "3.8.1"
  },
  "orig_nbformat": 4,
  "vscode": {
   "interpreter": {
    "hash": "1747805bfdf7e5202ab7b3cd6fa8f118e6fcddb135f7d35fd21660df307704da"
   }
  }
 },
 "nbformat": 4,
 "nbformat_minor": 2
}
